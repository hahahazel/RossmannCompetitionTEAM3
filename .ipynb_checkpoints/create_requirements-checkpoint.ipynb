{
 "cells": [
  {
   "cell_type": "code",
   "execution_count": null,
   "id": "692f94a8-fd8f-4acd-ad3b-461bf8a72fc2",
   "metadata": {},
   "outputs": [],
   "source": [
    "#This is used to create the requirements.txt\n",
    "## TODO: the pipreqs crashes when there is a % so they need to be \n",
    "# added here after the requirements"
   ]
  },
  {
   "cell_type": "code",
   "execution_count": 1,
   "id": "3059f8c8-e5dc-48ca-9f88-abb91c67a847",
   "metadata": {},
   "outputs": [
    {
     "name": "stdout",
     "output_type": "stream",
     "text": [
      "Requirement already satisfied: pipreqs in /home/eero/anaconda3/lib/python3.8/site-packages (0.4.11)\n",
      "Requirement already satisfied: docopt in /home/eero/anaconda3/lib/python3.8/site-packages (from pipreqs) (0.6.2)\n",
      "Requirement already satisfied: yarg in /home/eero/anaconda3/lib/python3.8/site-packages (from pipreqs) (0.1.9)\n",
      "Requirement already satisfied: requests in /home/eero/anaconda3/lib/python3.8/site-packages (from yarg->pipreqs) (2.26.0)\n",
      "Requirement already satisfied: idna<4,>=2.5 in /home/eero/anaconda3/lib/python3.8/site-packages (from requests->yarg->pipreqs) (3.2)\n",
      "Requirement already satisfied: urllib3<1.27,>=1.21.1 in /home/eero/anaconda3/lib/python3.8/site-packages (from requests->yarg->pipreqs) (1.26.7)\n",
      "Requirement already satisfied: certifi>=2017.4.17 in /home/eero/anaconda3/lib/python3.8/site-packages (from requests->yarg->pipreqs) (2021.10.8)\n",
      "Requirement already satisfied: charset-normalizer~=2.0.0 in /home/eero/anaconda3/lib/python3.8/site-packages (from requests->yarg->pipreqs) (2.0.4)\n",
      "Note: you may need to restart the kernel to use updated packages.\n"
     ]
    }
   ],
   "source": [
    "#%pip install pipreqs"
   ]
  },
  {
   "cell_type": "code",
   "execution_count": 7,
   "id": "ebed1093-0f56-462a-a2bc-a0b8e605b287",
   "metadata": {},
   "outputs": [
    {
     "name": "stdout",
     "output_type": "stream",
     "text": [
      "Requirement already satisfied: nbconvert in /home/eero/anaconda3/lib/python3.8/site-packages (6.1.0)\n",
      "Requirement already satisfied: bleach in /home/eero/anaconda3/lib/python3.8/site-packages (from nbconvert) (4.0.0)\n",
      "Requirement already satisfied: nbclient<0.6.0,>=0.5.0 in /home/eero/anaconda3/lib/python3.8/site-packages (from nbconvert) (0.5.3)\n",
      "Requirement already satisfied: entrypoints>=0.2.2 in /home/eero/anaconda3/lib/python3.8/site-packages (from nbconvert) (0.3)\n",
      "Requirement already satisfied: testpath in /home/eero/anaconda3/lib/python3.8/site-packages (from nbconvert) (0.5.0)\n",
      "Requirement already satisfied: defusedxml in /home/eero/anaconda3/lib/python3.8/site-packages (from nbconvert) (0.7.1)\n",
      "Requirement already satisfied: mistune<2,>=0.8.1 in /home/eero/anaconda3/lib/python3.8/site-packages (from nbconvert) (0.8.4)\n",
      "Requirement already satisfied: nbformat>=4.4 in /home/eero/anaconda3/lib/python3.8/site-packages (from nbconvert) (5.1.3)\n",
      "Requirement already satisfied: jinja2>=2.4 in /home/eero/anaconda3/lib/python3.8/site-packages (from nbconvert) (3.0.1)\n",
      "Requirement already satisfied: traitlets>=5.0 in /home/eero/anaconda3/lib/python3.8/site-packages (from nbconvert) (5.1.0)\n",
      "Requirement already satisfied: pandocfilters>=1.4.1 in /home/eero/anaconda3/lib/python3.8/site-packages (from nbconvert) (1.4.3)\n",
      "Requirement already satisfied: pygments>=2.4.1 in /home/eero/anaconda3/lib/python3.8/site-packages (from nbconvert) (2.10.0)\n",
      "Requirement already satisfied: jupyterlab-pygments in /home/eero/anaconda3/lib/python3.8/site-packages (from nbconvert) (0.1.2)\n",
      "Requirement already satisfied: jupyter-core in /home/eero/anaconda3/lib/python3.8/site-packages (from nbconvert) (4.8.1)\n",
      "Requirement already satisfied: MarkupSafe>=2.0 in /home/eero/anaconda3/lib/python3.8/site-packages (from jinja2>=2.4->nbconvert) (2.0.1)\n",
      "Requirement already satisfied: jupyter-client>=6.1.5 in /home/eero/anaconda3/lib/python3.8/site-packages (from nbclient<0.6.0,>=0.5.0->nbconvert) (7.0.1)\n",
      "Requirement already satisfied: async-generator in /home/eero/anaconda3/lib/python3.8/site-packages (from nbclient<0.6.0,>=0.5.0->nbconvert) (1.10)\n",
      "Requirement already satisfied: nest-asyncio in /home/eero/anaconda3/lib/python3.8/site-packages (from nbclient<0.6.0,>=0.5.0->nbconvert) (1.5.1)\n",
      "Requirement already satisfied: python-dateutil>=2.1 in /home/eero/anaconda3/lib/python3.8/site-packages (from jupyter-client>=6.1.5->nbclient<0.6.0,>=0.5.0->nbconvert) (2.8.2)\n",
      "Requirement already satisfied: tornado>=4.1 in /home/eero/anaconda3/lib/python3.8/site-packages (from jupyter-client>=6.1.5->nbclient<0.6.0,>=0.5.0->nbconvert) (6.1)\n",
      "Requirement already satisfied: pyzmq>=13 in /home/eero/anaconda3/lib/python3.8/site-packages (from jupyter-client>=6.1.5->nbclient<0.6.0,>=0.5.0->nbconvert) (22.2.1)\n",
      "Requirement already satisfied: ipython-genutils in /home/eero/anaconda3/lib/python3.8/site-packages (from nbformat>=4.4->nbconvert) (0.2.0)\n",
      "Requirement already satisfied: jsonschema!=2.5.0,>=2.4 in /home/eero/anaconda3/lib/python3.8/site-packages (from nbformat>=4.4->nbconvert) (3.2.0)\n",
      "Requirement already satisfied: attrs>=17.4.0 in /home/eero/anaconda3/lib/python3.8/site-packages (from jsonschema!=2.5.0,>=2.4->nbformat>=4.4->nbconvert) (21.2.0)\n",
      "Requirement already satisfied: setuptools in /home/eero/anaconda3/lib/python3.8/site-packages (from jsonschema!=2.5.0,>=2.4->nbformat>=4.4->nbconvert) (58.2.0)\n",
      "Requirement already satisfied: six>=1.11.0 in /home/eero/anaconda3/lib/python3.8/site-packages (from jsonschema!=2.5.0,>=2.4->nbformat>=4.4->nbconvert) (1.16.0)\n",
      "Requirement already satisfied: pyrsistent>=0.14.0 in /home/eero/anaconda3/lib/python3.8/site-packages (from jsonschema!=2.5.0,>=2.4->nbformat>=4.4->nbconvert) (0.17.3)\n",
      "Requirement already satisfied: packaging in /home/eero/anaconda3/lib/python3.8/site-packages (from bleach->nbconvert) (21.0)\n",
      "Requirement already satisfied: webencodings in /home/eero/anaconda3/lib/python3.8/site-packages (from bleach->nbconvert) (0.5.1)\n",
      "Requirement already satisfied: pyparsing>=2.0.2 in /home/eero/anaconda3/lib/python3.8/site-packages (from packaging->bleach->nbconvert) (2.4.7)\n",
      "Note: you may need to restart the kernel to use updated packages.\n"
     ]
    }
   ],
   "source": [
    "#%pip install nbconvert"
   ]
  },
  {
   "cell_type": "code",
   "execution_count": 16,
   "id": "a43d66b0-263d-4af3-af15-4a7fc6c80b33",
   "metadata": {},
   "outputs": [],
   "source": [
    "#!cmd jupyter nbconvert --output-dir=\"./reqs\" --to script my\\ nb.ipynbcd reqspipreqs"
   ]
  },
  {
   "cell_type": "code",
   "execution_count": null,
   "id": "195b3847-eb65-4c64-a37a-34c9df8a131d",
   "metadata": {},
   "outputs": [],
   "source": []
  }
 ],
 "metadata": {
  "kernelspec": {
   "display_name": "Python 3 (ipykernel)",
   "language": "python",
   "name": "python3"
  },
  "language_info": {
   "codemirror_mode": {
    "name": "ipython",
    "version": 3
   },
   "file_extension": ".py",
   "mimetype": "text/x-python",
   "name": "python",
   "nbconvert_exporter": "python",
   "pygments_lexer": "ipython3",
   "version": "3.8.8"
  }
 },
 "nbformat": 4,
 "nbformat_minor": 5
}
